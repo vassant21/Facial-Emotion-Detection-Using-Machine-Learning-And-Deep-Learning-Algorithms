{
 "cells": [
  {
   "cell_type": "code",
   "execution_count": null,
   "metadata": {},
   "outputs": [],
   "source": [
    "import matplotlib.pyplot as plt\n",
    "import numpy as np\n",
    "import pandas as pd\n",
    "from sklearn.ensemble import RandomForestClassifier\n",
    "from sklearn.metrics import confusion_matrix\n",
    "from sklearn.feature_selection import SelectKBest, f_classif\n",
    "from keras.utils import to_categorical\n",
    "from sklearn.preprocessing import MinMaxScaler\n",
    "from sklearn.metrics import accuracy_score\n",
    "\n",
    "# Load the dataset\n",
    "df = pd.read_csv('/content/drive/MyDrive/Copyoffer2013.csv')\n",
    "\n",
    "# Split the data into train and test sets\n",
    "X_train = df[df['Usage']=='Training']['pixels'].str.split().apply(pd.Series).astype('float32').values\n",
    "y_train = df[df['Usage']=='Training']['emotion'].values\n",
    "X_test = df[df['Usage']=='PublicTest']['pixels'].str.split().apply(pd.Series).astype('float32').values\n",
    "y_test = df[df['Usage']=='PublicTest']['emotion'].values\n",
    "\n",
    "# Normalize the data\n",
    "scaler = MinMaxScaler()\n",
    "X_train = scaler.fit_transform(X_train)\n",
    "X_test = scaler.transform(X_test)\n",
    "\n",
    "# Feature selection\n",
    "selector = SelectKBest(f_classif, k=300)\n",
    "X_train = selector.fit_transform(X_train, y_train)\n",
    "X_test = selector.transform(X_test)\n",
    "\n",
    "# Convert labels to categorical variables\n",
    "y_train = to_categorical(y_train, num_classes=7)\n",
    "y_test = to_categorical(y_test, num_classes=7)\n",
    "\n",
    "# Create the Random Forest model\n",
    "rf = RandomForestClassifier(n_estimators=300, max_depth=25, min_samples_split=5, random_state=42)\n",
    "\n",
    "# Fit the model to the training data\n",
    "rf.fit(X_train, y_train)\n",
    "\n",
    "# Predict labels for test set\n",
    "y_pred_labels = rf.predict(X_test)\n",
    "\n",
    "# Compute and print the accuracy\n",
    "accuracy = accuracy_score(np.argmax(y_test, axis=1), np.argmax(y_pred_labels, axis=1))\n",
    "print(\"Accuracy: {:.2f}%\".format(accuracy*100))\n",
    "\n",
    "# Print the confusion matrix\n",
    "print(confusion_matrix(np.argmax(y_test, axis=1), np.argmax(y_pred_labels, axis=1)))\n",
    "\n"
   ]
  }
 ],
 "metadata": {
  "language_info": {
   "name": "python"
  },
  "orig_nbformat": 4
 },
 "nbformat": 4,
 "nbformat_minor": 2
}
